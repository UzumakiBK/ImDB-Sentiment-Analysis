{
  "nbformat": 4,
  "nbformat_minor": 0,
  "metadata": {
    "colab": {
      "name": "senti_dl.ipynb",
      "provenance": [],
      "collapsed_sections": [],
      "authorship_tag": "ABX9TyMWIK6x2dkkTf6eAXeBV+Ik"
    },
    "kernelspec": {
      "name": "python3",
      "display_name": "Python 3"
    },
    "accelerator": "GPU"
  },
  "cells": [
    {
      "cell_type": "code",
      "metadata": {
        "id": "h2DS3LSczH35",
        "colab_type": "code",
        "colab": {
          "base_uri": "https://localhost:8080/",
          "height": 125
        },
        "outputId": "bb5bb200-2b50-41cb-e223-18c9a764ed9e"
      },
      "source": [
        "from google.colab import drive\n",
        "drive.mount('/content/drive')"
      ],
      "execution_count": 1,
      "outputs": [
        {
          "output_type": "stream",
          "text": [
            "Go to this URL in a browser: https://accounts.google.com/o/oauth2/auth?client_id=947318989803-6bn6qk8qdgf4n4g3pfee6491hc0brc4i.apps.googleusercontent.com&redirect_uri=urn%3aietf%3awg%3aoauth%3a2.0%3aoob&response_type=code&scope=email%20https%3a%2f%2fwww.googleapis.com%2fauth%2fdocs.test%20https%3a%2f%2fwww.googleapis.com%2fauth%2fdrive%20https%3a%2f%2fwww.googleapis.com%2fauth%2fdrive.photos.readonly%20https%3a%2f%2fwww.googleapis.com%2fauth%2fpeopleapi.readonly\n",
            "\n",
            "Enter your authorization code:\n",
            "··········\n",
            "Mounted at /content/drive\n"
          ],
          "name": "stdout"
        }
      ]
    },
    {
      "cell_type": "code",
      "metadata": {
        "id": "mQ9IxANwzwKX",
        "colab_type": "code",
        "colab": {}
      },
      "source": [
        "import os\n",
        "my_dir = '/content/drive/My Drive/My Projects/'\n",
        "os.chdir(my_dir)"
      ],
      "execution_count": 2,
      "outputs": []
    },
    {
      "cell_type": "code",
      "metadata": {
        "id": "z4AdievB5Rp9",
        "colab_type": "code",
        "colab": {}
      },
      "source": [
        "import pandas as pd\n",
        "file_path = 'IMDB Dataset.csv'\n",
        "df = pd.read_csv(file_path)\n",
        "df = df.sample(frac=1).reset_index(drop=True)\n",
        "df['label'] = df['sentiment'].apply(lambda x: 1 if x == 'positive' else 0)"
      ],
      "execution_count": 3,
      "outputs": []
    },
    {
      "cell_type": "code",
      "metadata": {
        "id": "EyECnjIAjsrs",
        "colab_type": "code",
        "colab": {}
      },
      "source": [
        "MAX_SEQ_LEN = 800\n",
        "EMBEDDING_DIM = 100"
      ],
      "execution_count": 4,
      "outputs": []
    },
    {
      "cell_type": "code",
      "metadata": {
        "id": "LKu3lECF2nQT",
        "colab_type": "code",
        "colab": {}
      },
      "source": [
        "import numpy as np\n",
        "from gensim.parsing.preprocessing import preprocess_string, strip_punctuation, strip_tags, strip_multiple_whitespaces, strip_numeric, strip_non_alphanum, remove_stopwords, stem_text\n",
        "from joblib import Parallel, delayed\n",
        "from tqdm import tqdm\n",
        "from tensorflow.keras.preprocessing.sequence import pad_sequences\n",
        "from tensorflow.keras.preprocessing.text import Tokenizer\n",
        "from tensorflow.compat.v1.keras.layers import CuDNNGRU\n",
        "from tensorflow.keras.layers import Input, Embedding, Dense, Dropout, Bidirectional, GlobalMaxPool1D\n",
        "from tensorflow.keras.callbacks import EarlyStopping\n",
        "from tensorflow.keras import Sequential"
      ],
      "execution_count": 5,
      "outputs": []
    },
    {
      "cell_type": "code",
      "metadata": {
        "id": "46i_uX0O5VOr",
        "colab_type": "code",
        "colab": {}
      },
      "source": [
        "filters = [lambda x: x.lower(), strip_tags, stem_text, strip_punctuation, strip_numeric, strip_non_alphanum]\n",
        "def process_text(text):\n",
        "  text = remove_stopwords(text)\n",
        "  text = preprocess_string(text, filters)\n",
        "  text = ' '.join(ch for ch in text)\n",
        "  return text"
      ],
      "execution_count": 6,
      "outputs": []
    },
    {
      "cell_type": "code",
      "metadata": {
        "id": "nZqykjEz6CcF",
        "colab_type": "code",
        "colab": {}
      },
      "source": [
        "train = df[:40000]"
      ],
      "execution_count": 7,
      "outputs": []
    },
    {
      "cell_type": "code",
      "metadata": {
        "id": "Qy5NNo2O55Ib",
        "colab_type": "code",
        "colab": {
          "base_uri": "https://localhost:8080/",
          "height": 34
        },
        "outputId": "0d35542c-b8e7-4871-f8f1-38abd861e425"
      },
      "source": [
        "processed_texts = Parallel(n_jobs=2, backend='multiprocessing')(\n",
        "    delayed(process_text)(text) for i, text in tqdm(enumerate(train['review']), total=len(train)))"
      ],
      "execution_count": 8,
      "outputs": [
        {
          "output_type": "stream",
          "text": [
            "100%|██████████| 40000/40000 [00:33<00:00, 1188.32it/s]\n"
          ],
          "name": "stderr"
        }
      ]
    },
    {
      "cell_type": "code",
      "metadata": {
        "id": "Y5fiL57dAYrA",
        "colab_type": "code",
        "colab": {}
      },
      "source": [
        "def tokenize(texts):\n",
        "  tokenizer = Tokenizer()\n",
        "  tokenizer.fit_on_texts(texts)\n",
        "  seq = tokenizer.texts_to_sequences(texts)\n",
        "  word_index = tokenizer.word_index\n",
        "  seq = pad_sequences(seq, maxlen=MAX_SEQ_LEN, padding='post', truncating='post')\n",
        "  return word_index, seq, tokenizer"
      ],
      "execution_count": 9,
      "outputs": []
    },
    {
      "cell_type": "code",
      "metadata": {
        "id": "8q1Y41KoAwnG",
        "colab_type": "code",
        "colab": {}
      },
      "source": [
        "word_index, sequences, tokenizer = tokenize(processed_texts)"
      ],
      "execution_count": 10,
      "outputs": []
    },
    {
      "cell_type": "code",
      "metadata": {
        "id": "jbgOgnOVqG67",
        "colab_type": "code",
        "colab": {}
      },
      "source": [
        "def prep_test(data, tokenizer):\n",
        "  texts = Parallel(n_jobs=2, backend='multiprocessing')(\n",
        "    delayed(process_text)(text) for i, text in tqdm(enumerate(data['review']), total=len(data)))\n",
        "  seq = tokenizer.texts_to_sequences(texts)\n",
        "  seq = pad_sequences(seq, maxlen=MAX_SEQ_LEN, padding='post', truncating='post')\n",
        "  return seq"
      ],
      "execution_count": 11,
      "outputs": []
    },
    {
      "cell_type": "code",
      "metadata": {
        "id": "CPXuvogqA2Ng",
        "colab_type": "code",
        "colab": {}
      },
      "source": [
        "train_y = train['label']"
      ],
      "execution_count": 12,
      "outputs": []
    },
    {
      "cell_type": "code",
      "metadata": {
        "id": "3CBWvNoPq1W1",
        "colab_type": "code",
        "colab": {
          "base_uri": "https://localhost:8080/",
          "height": 34
        },
        "outputId": "746a5e85-2c6e-447c-8f83-0faae0f55139"
      },
      "source": [
        "test_x = prep_test(df[40000:], tokenizer)\n",
        "test_y = df[40000:]['label']"
      ],
      "execution_count": 13,
      "outputs": [
        {
          "output_type": "stream",
          "text": [
            "100%|██████████| 10000/10000 [00:08<00:00, 1218.21it/s]\n"
          ],
          "name": "stderr"
        }
      ]
    },
    {
      "cell_type": "code",
      "metadata": {
        "id": "OxwB6ABjzYHo",
        "colab_type": "code",
        "colab": {}
      },
      "source": [
        "def prep_embeddings(word_index):\n",
        "  glove_file = my_dir+'glove.6B.100d.txt'\n",
        "  embeddings_index = dict()\n",
        "  with open(glove_file) as file:\n",
        "    for line in file:\n",
        "      values = line.split()\n",
        "      word = values[0]\n",
        "      embeddings_index[word] = np.asarray(values[1:], dtype=np.float32)\n",
        "  embeddings_matrix = np.random.random((len(word_index)+1, EMBEDDING_DIM))\n",
        "  for word, i in word_index.items():\n",
        "    vec = embeddings_index.get(word)\n",
        "    if vec is not None:\n",
        "      embeddings_matrix[i] = vec\n",
        "  return embeddings_matrix"
      ],
      "execution_count": 14,
      "outputs": []
    },
    {
      "cell_type": "code",
      "metadata": {
        "id": "77E4gHnE2Br0",
        "colab_type": "code",
        "colab": {}
      },
      "source": [
        "embeddings_matrix = prep_embeddings(word_index)"
      ],
      "execution_count": 15,
      "outputs": []
    },
    {
      "cell_type": "code",
      "metadata": {
        "id": "ramn0CwTvA6I",
        "colab_type": "code",
        "colab": {}
      },
      "source": [
        "early_stopping = EarlyStopping(monitor='val_accuracy', min_delta=0.01, patience=5)"
      ],
      "execution_count": 16,
      "outputs": []
    },
    {
      "cell_type": "code",
      "metadata": {
        "id": "FtE2gX93kRNE",
        "colab_type": "code",
        "colab": {}
      },
      "source": [
        "model = Sequential([\n",
        "                    Input(shape=(MAX_SEQ_LEN,)),\n",
        "                    Embedding(len(word_index)+1, EMBEDDING_DIM, weights=[embeddings_matrix], trainable=False, input_length=MAX_SEQ_LEN),\n",
        "                    CuDNNGRU(128, return_sequences=True),\n",
        "                    GlobalMaxPool1D(),\n",
        "                    Dropout(0.25),\n",
        "                    Dense(128, activation='relu'),\n",
        "                    Dropout(0.25),\n",
        "                    Dense(1, activation='sigmoid')\n",
        "])"
      ],
      "execution_count": 17,
      "outputs": []
    },
    {
      "cell_type": "code",
      "metadata": {
        "id": "cCuLIHb8oF8e",
        "colab_type": "code",
        "colab": {
          "base_uri": "https://localhost:8080/",
          "height": 404
        },
        "outputId": "5bf62c3f-f8a2-4995-b91c-f75b3f04b3a0"
      },
      "source": [
        "model.summary()"
      ],
      "execution_count": 18,
      "outputs": [
        {
          "output_type": "stream",
          "text": [
            "Model: \"sequential\"\n",
            "_________________________________________________________________\n",
            "Layer (type)                 Output Shape              Param #   \n",
            "=================================================================\n",
            "embedding (Embedding)        (None, 800, 100)          9045400   \n",
            "_________________________________________________________________\n",
            "cu_dnngru (CuDNNGRU)         (None, 800, 128)          88320     \n",
            "_________________________________________________________________\n",
            "global_max_pooling1d (Global (None, 128)               0         \n",
            "_________________________________________________________________\n",
            "dropout (Dropout)            (None, 128)               0         \n",
            "_________________________________________________________________\n",
            "dense (Dense)                (None, 128)               16512     \n",
            "_________________________________________________________________\n",
            "dropout_1 (Dropout)          (None, 128)               0         \n",
            "_________________________________________________________________\n",
            "dense_1 (Dense)              (None, 1)                 129       \n",
            "=================================================================\n",
            "Total params: 9,150,361\n",
            "Trainable params: 104,961\n",
            "Non-trainable params: 9,045,400\n",
            "_________________________________________________________________\n"
          ],
          "name": "stdout"
        }
      ]
    },
    {
      "cell_type": "code",
      "metadata": {
        "id": "9FXGV_-GoQDc",
        "colab_type": "code",
        "colab": {}
      },
      "source": [
        "model.compile(optimizer='adam', loss='binary_crossentropy', metrics=['accuracy'])"
      ],
      "execution_count": 19,
      "outputs": []
    },
    {
      "cell_type": "code",
      "metadata": {
        "id": "e7zUeA5_oc1D",
        "colab_type": "code",
        "colab": {
          "base_uri": "https://localhost:8080/",
          "height": 474
        },
        "outputId": "db961810-6630-43ca-c1d8-37ff989383ef"
      },
      "source": [
        "history = model.fit(sequences, train_y, epochs=50, batch_size=64, steps_per_epoch=625, validation_data=(test_x, test_y), validation_steps=157, callbacks=[early_stopping])"
      ],
      "execution_count": 20,
      "outputs": [
        {
          "output_type": "stream",
          "text": [
            "Epoch 1/50\n",
            "625/625 [==============================] - 43s 68ms/step - loss: 0.4977 - accuracy: 0.7492 - val_loss: 0.3948 - val_accuracy: 0.8211\n",
            "Epoch 2/50\n",
            "625/625 [==============================] - 40s 65ms/step - loss: 0.3862 - accuracy: 0.8272 - val_loss: 0.3771 - val_accuracy: 0.8319\n",
            "Epoch 3/50\n",
            "625/625 [==============================] - 40s 65ms/step - loss: 0.3526 - accuracy: 0.8457 - val_loss: 0.3387 - val_accuracy: 0.8557\n",
            "Epoch 4/50\n",
            "625/625 [==============================] - 40s 65ms/step - loss: 0.3253 - accuracy: 0.8581 - val_loss: 0.3398 - val_accuracy: 0.8447\n",
            "Epoch 5/50\n",
            "625/625 [==============================] - 41s 65ms/step - loss: 0.3046 - accuracy: 0.8718 - val_loss: 0.3219 - val_accuracy: 0.8615\n",
            "Epoch 6/50\n",
            "625/625 [==============================] - 41s 66ms/step - loss: 0.2890 - accuracy: 0.8778 - val_loss: 0.3191 - val_accuracy: 0.8589\n",
            "Epoch 7/50\n",
            "625/625 [==============================] - 41s 66ms/step - loss: 0.2712 - accuracy: 0.8866 - val_loss: 0.3458 - val_accuracy: 0.8463\n",
            "Epoch 8/50\n",
            "625/625 [==============================] - 41s 66ms/step - loss: 0.2504 - accuracy: 0.8958 - val_loss: 0.2999 - val_accuracy: 0.8741\n",
            "Epoch 9/50\n",
            "625/625 [==============================] - 41s 66ms/step - loss: 0.2388 - accuracy: 0.9017 - val_loss: 0.3034 - val_accuracy: 0.8725\n",
            "Epoch 10/50\n",
            "625/625 [==============================] - 41s 66ms/step - loss: 0.2212 - accuracy: 0.9090 - val_loss: 0.3122 - val_accuracy: 0.8662\n",
            "Epoch 11/50\n",
            "625/625 [==============================] - 41s 66ms/step - loss: 0.2080 - accuracy: 0.9165 - val_loss: 0.3119 - val_accuracy: 0.8725\n",
            "Epoch 12/50\n",
            "625/625 [==============================] - 41s 65ms/step - loss: 0.1920 - accuracy: 0.9231 - val_loss: 0.3290 - val_accuracy: 0.8729\n",
            "Epoch 13/50\n",
            "625/625 [==============================] - 41s 66ms/step - loss: 0.1791 - accuracy: 0.9287 - val_loss: 0.3560 - val_accuracy: 0.8637\n"
          ],
          "name": "stdout"
        }
      ]
    },
    {
      "cell_type": "code",
      "metadata": {
        "id": "Mb0zphS5pQLT",
        "colab_type": "code",
        "colab": {
          "base_uri": "https://localhost:8080/",
          "height": 34
        },
        "outputId": "96278dc6-d531-4c8b-bf84-9136441fdaca"
      },
      "source": [
        "sequences.shape, train_y.shape"
      ],
      "execution_count": null,
      "outputs": [
        {
          "output_type": "execute_result",
          "data": {
            "text/plain": [
              "((40000, 300), (40000,))"
            ]
          },
          "metadata": {
            "tags": []
          },
          "execution_count": 19
        }
      ]
    },
    {
      "cell_type": "code",
      "metadata": {
        "id": "qARjm6N3CD4d",
        "colab_type": "code",
        "colab": {}
      },
      "source": [
        "import matplotlib.pyplot as plt\n"
      ],
      "execution_count": 21,
      "outputs": []
    },
    {
      "cell_type": "code",
      "metadata": {
        "id": "TiJgEfj2kWEB",
        "colab_type": "code",
        "colab": {
          "base_uri": "https://localhost:8080/",
          "height": 34
        },
        "outputId": "7dfd7285-f57c-41c1-9786-77783d7db303"
      },
      "source": [
        ""
      ],
      "execution_count": 22,
      "outputs": [
        {
          "output_type": "execute_result",
          "data": {
            "text/plain": [
              "[0, 1, 2, 3, 4, 5, 6, 7, 8, 9, 10, 11, 12]"
            ]
          },
          "metadata": {
            "tags": []
          },
          "execution_count": 22
        }
      ]
    },
    {
      "cell_type": "code",
      "metadata": {
        "id": "-1dTYC3aDLyY",
        "colab_type": "code",
        "colab": {
          "base_uri": "https://localhost:8080/",
          "height": 265
        },
        "outputId": "488f3ab3-c1fa-4f12-d0ae-2e92ce907c65"
      },
      "source": [
        "plt.plot(range(len(history.epoch)), history.history['accuracy'], range(len(history.epoch)), history.history['val_accuracy'])\n",
        "plt.show()"
      ],
      "execution_count": 23,
      "outputs": [
        {
          "output_type": "display_data",
          "data": {
            "image/png": "[encoded data removed]",
            "text/plain": [
              "<Figure size 432x288 with 1 Axes>"
            ]
          },
          "metadata": {
            "tags": [],
            "needs_background": "light"
          }
        }
      ]
    },
    {
      "cell_type": "code",
      "metadata": {
        "id": "aRfzIy9EDtze",
        "colab_type": "code",
        "colab": {}
      },
      "source": [
        ""
      ],
      "execution_count": null,
      "outputs": []
    }
  ]
}