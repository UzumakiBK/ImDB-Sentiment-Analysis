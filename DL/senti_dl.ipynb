{
  "nbformat": 4,
  "nbformat_minor": 0,
  "metadata": {
    "colab": {
      "name": "senti_dl.ipynb",
      "provenance": [],
      "collapsed_sections": [],
      "authorship_tag": "ABX9TyNCGXuOwUExi+INTLwBhqJk"
    },
    "kernelspec": {
      "name": "python3",
      "display_name": "Python 3"
    },
    "accelerator": "GPU"
  },
  "cells": [
    {
      "cell_type": "code",
      "metadata": {
        "id": "h2DS3LSczH35",
        "colab_type": "code",
        "colab": {
          "base_uri": "https://localhost:8080/",
          "height": 125
        },
        "outputId": "da1ee610-193e-45a4-9cd8-2607f8ce6278"
      },
      "source": [
        "from google.colab import drive\n",
        "drive.mount('/content/drive')"
      ],
      "execution_count": 1,
      "outputs": [
        {
          "output_type": "stream",
          "text": [
            "Go to this URL in a browser: https://accounts.google.com/o/oauth2/auth?client_id=947318989803-6bn6qk8qdgf4n4g3pfee6491hc0brc4i.apps.googleusercontent.com&redirect_uri=urn%3aietf%3awg%3aoauth%3a2.0%3aoob&response_type=code&scope=email%20https%3a%2f%2fwww.googleapis.com%2fauth%2fdocs.test%20https%3a%2f%2fwww.googleapis.com%2fauth%2fdrive%20https%3a%2f%2fwww.googleapis.com%2fauth%2fdrive.photos.readonly%20https%3a%2f%2fwww.googleapis.com%2fauth%2fpeopleapi.readonly\n",
            "\n",
            "Enter your authorization code:\n",
            "··········\n",
            "Mounted at /content/drive\n"
          ],
          "name": "stdout"
        }
      ]
    },
    {
      "cell_type": "code",
      "metadata": {
        "id": "mQ9IxANwzwKX",
        "colab_type": "code",
        "colab": {}
      },
      "source": [
        "import os\n",
        "my_dir = '/content/drive/My Drive/My Projects/'\n",
        "os.chdir(my_dir)"
      ],
      "execution_count": 2,
      "outputs": []
    },
    {
      "cell_type": "code",
      "metadata": {
        "id": "z4AdievB5Rp9",
        "colab_type": "code",
        "colab": {}
      },
      "source": [
        "import pandas as pd\n",
        "file_path = 'IMDB Dataset.csv'\n",
        "df = pd.read_csv(file_path)\n",
        "df = df.sample(frac=1).reset_index(drop=True)\n",
        "df['label'] = df['sentiment'].apply(lambda x: 1 if x == 'positive' else 0)"
      ],
      "execution_count": 3,
      "outputs": []
    },
    {
      "cell_type": "code",
      "metadata": {
        "id": "EyECnjIAjsrs",
        "colab_type": "code",
        "colab": {}
      },
      "source": [
        "MAX_SEQ_LEN = 800\n",
        "EMBEDDING_DIM = 100"
      ],
      "execution_count": 22,
      "outputs": []
    },
    {
      "cell_type": "code",
      "metadata": {
        "id": "LKu3lECF2nQT",
        "colab_type": "code",
        "colab": {}
      },
      "source": [
        "import numpy as np\n",
        "from gensim.parsing.preprocessing import preprocess_string, strip_punctuation, strip_tags, strip_multiple_whitespaces, strip_numeric, strip_non_alphanum, remove_stopwords, stem_text\n",
        "from joblib import Parallel, delayed\n",
        "from tqdm import tqdm\n",
        "from tensorflow.keras.preprocessing.sequence import pad_sequences\n",
        "from tensorflow.keras.preprocessing.text import Tokenizer\n",
        "from tensorflow.compat.v1.keras.layers import CuDNNLSTM\n",
        "from tensorflow.keras.layers import Input, Embedding, Dense, Dropout, Bidirectional, GlobalMaxPool1D\n",
        "from tensorflow.keras.callbacks import EarlyStopping\n",
        "from tensorflow.keras import Sequential"
      ],
      "execution_count": 47,
      "outputs": []
    },
    {
      "cell_type": "code",
      "metadata": {
        "id": "46i_uX0O5VOr",
        "colab_type": "code",
        "colab": {}
      },
      "source": [
        "filters = [lambda x: x.lower(), strip_tags, stem_text, strip_punctuation, strip_numeric, strip_non_alphanum]\n",
        "def process_text(text):\n",
        "  text = remove_stopwords(text)\n",
        "  text = preprocess_string(text, filters)\n",
        "  text = ' '.join(ch for ch in text)\n",
        "  return text"
      ],
      "execution_count": 6,
      "outputs": []
    },
    {
      "cell_type": "code",
      "metadata": {
        "id": "nZqykjEz6CcF",
        "colab_type": "code",
        "colab": {}
      },
      "source": [
        "train = df[:40000]"
      ],
      "execution_count": 7,
      "outputs": []
    },
    {
      "cell_type": "code",
      "metadata": {
        "id": "Qy5NNo2O55Ib",
        "colab_type": "code",
        "colab": {
          "base_uri": "https://localhost:8080/",
          "height": 34
        },
        "outputId": "a107458b-93c7-4110-9040-b10b16d417ae"
      },
      "source": [
        "processed_texts = Parallel(n_jobs=2, backend='multiprocessing')(\n",
        "    delayed(process_text)(text) for i, text in tqdm(enumerate(train['review']), total=len(train)))"
      ],
      "execution_count": 8,
      "outputs": [
        {
          "output_type": "stream",
          "text": [
            "100%|██████████| 40000/40000 [00:39<00:00, 1005.09it/s]\n"
          ],
          "name": "stderr"
        }
      ]
    },
    {
      "cell_type": "code",
      "metadata": {
        "id": "Y5fiL57dAYrA",
        "colab_type": "code",
        "colab": {}
      },
      "source": [
        "def tokenize(texts):\n",
        "  tokenizer = Tokenizer()\n",
        "  tokenizer.fit_on_texts(texts)\n",
        "  seq = tokenizer.texts_to_sequences(texts)\n",
        "  word_index = tokenizer.word_index\n",
        "  seq = pad_sequences(seq, maxlen=MAX_SEQ_LEN, padding='post', truncating='post')\n",
        "  return word_index, seq, tokenizer"
      ],
      "execution_count": 9,
      "outputs": []
    },
    {
      "cell_type": "code",
      "metadata": {
        "id": "8q1Y41KoAwnG",
        "colab_type": "code",
        "colab": {}
      },
      "source": [
        "word_index, sequences, tokenizer = tokenize(processed_texts)"
      ],
      "execution_count": 23,
      "outputs": []
    },
    {
      "cell_type": "code",
      "metadata": {
        "id": "jbgOgnOVqG67",
        "colab_type": "code",
        "colab": {}
      },
      "source": [
        "def prep_test(data, tokenizer):\n",
        "  texts = Parallel(n_jobs=2, backend='multiprocessing')(\n",
        "    delayed(process_text)(text) for i, text in tqdm(enumerate(data['review']), total=len(data)))\n",
        "  seq = tokenizer.texts_to_sequences(texts)\n",
        "  seq = pad_sequences(seq, maxlen=MAX_SEQ_LEN, padding='post', truncating='post')\n",
        "  return seq"
      ],
      "execution_count": 24,
      "outputs": []
    },
    {
      "cell_type": "code",
      "metadata": {
        "id": "CPXuvogqA2Ng",
        "colab_type": "code",
        "colab": {}
      },
      "source": [
        "train_y = train['label']"
      ],
      "execution_count": 25,
      "outputs": []
    },
    {
      "cell_type": "code",
      "metadata": {
        "id": "3CBWvNoPq1W1",
        "colab_type": "code",
        "colab": {
          "base_uri": "https://localhost:8080/",
          "height": 34
        },
        "outputId": "1b5519e1-a31f-4249-d94d-2fe850700736"
      },
      "source": [
        "test_x = prep_test(df[40000:], tokenizer)\n",
        "test_y = df[40000:]['label']"
      ],
      "execution_count": 26,
      "outputs": [
        {
          "output_type": "stream",
          "text": [
            "100%|██████████| 10000/10000 [00:09<00:00, 1033.33it/s]\n"
          ],
          "name": "stderr"
        }
      ]
    },
    {
      "cell_type": "code",
      "metadata": {
        "id": "OxwB6ABjzYHo",
        "colab_type": "code",
        "colab": {}
      },
      "source": [
        "def prep_embeddings(word_index):\n",
        "  glove_file = my_dir+'glove.6B.100d.txt'\n",
        "  embeddings_index = dict()\n",
        "  with open(glove_file) as file:\n",
        "    for line in file:\n",
        "      values = line.split()\n",
        "      word = values[0]\n",
        "      embeddings_index[word] = np.asarray(values[1:], dtype=np.float32)\n",
        "  embeddings_matrix = np.random.random((len(word_index)+1, EMBEDDING_DIM))\n",
        "  for word, i in word_index.items():\n",
        "    vec = embeddings_index.get(word)\n",
        "    if vec is not None:\n",
        "      embeddings_matrix[i] = vec\n",
        "  return embeddings_matrix"
      ],
      "execution_count": 14,
      "outputs": []
    },
    {
      "cell_type": "code",
      "metadata": {
        "id": "77E4gHnE2Br0",
        "colab_type": "code",
        "colab": {}
      },
      "source": [
        "embeddings_matrix = prep_embeddings(word_index)"
      ],
      "execution_count": 15,
      "outputs": []
    },
    {
      "cell_type": "code",
      "metadata": {
        "id": "ramn0CwTvA6I",
        "colab_type": "code",
        "colab": {}
      },
      "source": [
        "early_stopping = EarlyStopping(monitor='val_accuracy', min_delta=0.01, patience=5)"
      ],
      "execution_count": 36,
      "outputs": []
    },
    {
      "cell_type": "code",
      "metadata": {
        "id": "FtE2gX93kRNE",
        "colab_type": "code",
        "colab": {}
      },
      "source": [
        "model = Sequential([\n",
        "                    Input(shape=(MAX_SEQ_LEN,)),\n",
        "                    Embedding(len(word_index)+1, EMBEDDING_DIM, weights=[embeddings_matrix], trainable=False, input_length=MAX_SEQ_LEN),\n",
        "                    CuDNNLSTM(128, return_sequences=True),\n",
        "                    GlobalMaxPool1D(),\n",
        "                    Dropout(0.25),\n",
        "                    Dense(128, activation='relu'),\n",
        "                    Dropout(0.25),\n",
        "                    Dense(1, activation='sigmoid')\n",
        "])"
      ],
      "execution_count": 53,
      "outputs": []
    },
    {
      "cell_type": "code",
      "metadata": {
        "id": "cCuLIHb8oF8e",
        "colab_type": "code",
        "colab": {
          "base_uri": "https://localhost:8080/",
          "height": 404
        },
        "outputId": "4343bda2-b48b-4492-b7b7-f6e8461cd4d8"
      },
      "source": [
        "model.summary()"
      ],
      "execution_count": 54,
      "outputs": [
        {
          "output_type": "stream",
          "text": [
            "Model: \"sequential_14\"\n",
            "_________________________________________________________________\n",
            "Layer (type)                 Output Shape              Param #   \n",
            "=================================================================\n",
            "embedding_14 (Embedding)     (None, 800, 100)          9020800   \n",
            "_________________________________________________________________\n",
            "cu_dnnlstm_22 (CuDNNLSTM)    (None, 800, 128)          117760    \n",
            "_________________________________________________________________\n",
            "global_max_pooling1d_5 (Glob (None, 128)               0         \n",
            "_________________________________________________________________\n",
            "dropout_36 (Dropout)         (None, 128)               0         \n",
            "_________________________________________________________________\n",
            "dense_28 (Dense)             (None, 128)               16512     \n",
            "_________________________________________________________________\n",
            "dropout_37 (Dropout)         (None, 128)               0         \n",
            "_________________________________________________________________\n",
            "dense_29 (Dense)             (None, 1)                 129       \n",
            "=================================================================\n",
            "Total params: 9,155,201\n",
            "Trainable params: 134,401\n",
            "Non-trainable params: 9,020,800\n",
            "_________________________________________________________________\n"
          ],
          "name": "stdout"
        }
      ]
    },
    {
      "cell_type": "code",
      "metadata": {
        "id": "9FXGV_-GoQDc",
        "colab_type": "code",
        "colab": {}
      },
      "source": [
        "model.compile(optimizer='adam', loss='binary_crossentropy', metrics=['accuracy'])"
      ],
      "execution_count": 55,
      "outputs": []
    },
    {
      "cell_type": "code",
      "metadata": {
        "id": "e7zUeA5_oc1D",
        "colab_type": "code",
        "colab": {
          "base_uri": "https://localhost:8080/",
          "height": 334
        },
        "outputId": "f33cbe6c-4045-484d-e7de-74c8728f4da7"
      },
      "source": [
        "history = model.fit(sequences, train_y, epochs=50, batch_size=64, steps_per_epoch=625, validation_data=(test_x, test_y), validation_steps=157, callbacks=[early_stopping])"
      ],
      "execution_count": 56,
      "outputs": [
        {
          "output_type": "stream",
          "text": [
            "Epoch 1/50\n",
            "625/625 [==============================] - 91s 146ms/step - loss: 0.5072 - accuracy: 0.7462 - val_loss: 0.3991 - val_accuracy: 0.8210\n",
            "Epoch 2/50\n",
            "625/625 [==============================] - 91s 146ms/step - loss: 0.3976 - accuracy: 0.8202 - val_loss: 0.3549 - val_accuracy: 0.8430\n",
            "Epoch 3/50\n",
            "625/625 [==============================] - 91s 145ms/step - loss: 0.3517 - accuracy: 0.8460 - val_loss: 0.3271 - val_accuracy: 0.8533\n",
            "Epoch 4/50\n",
            "625/625 [==============================] - 91s 145ms/step - loss: 0.3270 - accuracy: 0.8582 - val_loss: 0.3115 - val_accuracy: 0.8662\n",
            "Epoch 5/50\n",
            "625/625 [==============================] - 91s 146ms/step - loss: 0.3071 - accuracy: 0.8674 - val_loss: 0.3028 - val_accuracy: 0.8718\n",
            "Epoch 6/50\n",
            "625/625 [==============================] - 91s 146ms/step - loss: 0.2834 - accuracy: 0.8801 - val_loss: 0.3061 - val_accuracy: 0.8701\n",
            "Epoch 7/50\n",
            "625/625 [==============================] - 91s 145ms/step - loss: 0.2687 - accuracy: 0.8874 - val_loss: 0.3165 - val_accuracy: 0.8656\n",
            "Epoch 8/50\n",
            "625/625 [==============================] - 91s 145ms/step - loss: 0.2481 - accuracy: 0.8979 - val_loss: 0.2995 - val_accuracy: 0.8751\n",
            "Epoch 9/50\n",
            "625/625 [==============================] - 91s 146ms/step - loss: 0.2341 - accuracy: 0.9036 - val_loss: 0.3066 - val_accuracy: 0.8674\n"
          ],
          "name": "stdout"
        }
      ]
    },
    {
      "cell_type": "code",
      "metadata": {
        "id": "Mb0zphS5pQLT",
        "colab_type": "code",
        "colab": {
          "base_uri": "https://localhost:8080/",
          "height": 34
        },
        "outputId": "96278dc6-d531-4c8b-bf84-9136441fdaca"
      },
      "source": [
        "sequences.shape, train_y.shape"
      ],
      "execution_count": null,
      "outputs": [
        {
          "output_type": "execute_result",
          "data": {
            "text/plain": [
              "((40000, 300), (40000,))"
            ]
          },
          "metadata": {
            "tags": []
          },
          "execution_count": 19
        }
      ]
    },
    {
      "cell_type": "code",
      "metadata": {
        "id": "qARjm6N3CD4d",
        "colab_type": "code",
        "colab": {}
      },
      "source": [
        "import matplotlib.pyplot as plt\n"
      ],
      "execution_count": 57,
      "outputs": []
    },
    {
      "cell_type": "code",
      "metadata": {
        "id": "-1dTYC3aDLyY",
        "colab_type": "code",
        "colab": {
          "base_uri": "https://localhost:8080/",
          "height": 265
        },
        "outputId": "365d597a-3e53-44b5-d25c-57816b2aa4cb"
      },
      "source": [
        "plt.plot(range(9), history.history['accuracy'], range(9), history.history['val_accuracy'])\n",
        "plt.show()"
      ],
      "execution_count": 60,
      "outputs": [
        {
          "output_type": "display_data",
          "data": {
            "image/png": "[encoded data removed]",
            "text/plain": [
              "<Figure size 432x288 with 1 Axes>"
            ]
          },
          "metadata": {
            "tags": [],
            "needs_background": "light"
          }
        }
      ]
    },
    {
      "cell_type": "code",
      "metadata": {
        "id": "aRfzIy9EDtze",
        "colab_type": "code",
        "colab": {}
      },
      "source": [
        ""
      ],
      "execution_count": null,
      "outputs": []
    }
  ]
}